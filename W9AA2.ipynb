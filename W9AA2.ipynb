{
 "cells": [
  {
   "cell_type": "code",
   "execution_count": 46,
   "id": "b18843e3-f6a6-48ae-a923-e5807ceab0db",
   "metadata": {},
   "outputs": [],
   "source": [
    "from hashlib import sha256\n",
    "import json\n",
    "import datetime"
   ]
  },
  {
   "cell_type": "code",
   "execution_count": 47,
   "id": "0f49baf5-093d-41fc-8c72-2dee6d73f428",
   "metadata": {},
   "outputs": [],
   "source": [
    "class Block:\n",
    "    def __init__(self, index, transactions, timestamp, previous_hash, nonce=0):\n",
    "        self.index = index\n",
    "        self.transactions = transactions\n",
    "        self.timestamp = timestamp\n",
    "        self.previous_hash = previous_hash\n",
    "        self.nonce = nonce\n",
    "    \n",
    "    def compute_hash(self):\n",
    "        block_string = json.dumps(self.__dict__, sort_keys=True)\n",
    "        return sha256(block_string.encode()).hexdigest()"
   ]
  },
  {
   "cell_type": "code",
   "execution_count": 60,
   "id": "71668410-b787-4962-bcbb-805888f871d2",
   "metadata": {},
   "outputs": [
    {
     "name": "stdout",
     "output_type": "stream",
     "text": [
      "<class '__main__.Block'>\n",
      "00000a840c96ce975f1388df18b8ad71250250a640f6636a91a86e00fe8a552a\n",
      "<class '__main__.Block'>\n",
      "00000056a0db73cdebc15018ec2c728d31e93ff0a68fa79a3fc110083a217ac5\n",
      "<class '__main__.Block'>\n",
      "000008070f041e2ee4d1d15bc179e947001d9d0f5a93196ffafa9eacc14078c9\n",
      "<class '__main__.Block'>\n",
      "00000d2ec6bb26e76e18597ae1f829d8460afa08de9ee8b1e0a5febd7e86c605\n",
      "<class '__main__.Block'>\n",
      "0000041041fc19ca7b073605dc959bbfcbc4f2146418468f8be0e4b1090da315\n",
      "<class '__main__.Block'>\n",
      "000004e951b8d393e34f81885890da6bb11f5ece5cb66943e8e6170ceedfd066\n",
      "<class '__main__.Block'>\n",
      "0000072c56fde321d86429917f02fc50144a4a30661a7ce307cb52fd4448f123\n",
      "<class '__main__.Block'>\n",
      "000000e1a6b89eeb583f2bb0fd47d1e2a5e9154007a788d7880c76438d50e8f9\n",
      "<class '__main__.Block'>\n",
      "00000a8760ba871a5febc40a058e20a04e0737d9e565a743f39010b76ab3931b\n",
      "<__main__.Blockchain object at 0x7fedb4da2400>\n"
     ]
    }
   ],
   "source": [
    "class Blockchain: \n",
    "    def __init__(self):\n",
    "        self.unconfirmed_transactions = [\"Ty pays Brent 1000 BTC\"]\n",
    "        self.chain = []\n",
    "        self.difficulty = 5\n",
    "        self.create_genesis_block()\n",
    "        \n",
    "    def create_genesis_block(self):\n",
    "        genesis_block = Block(0, [], str(datetime.datetime.now()), \"0\")\n",
    "        genesis_block.hash = genesis_block.compute_hash()\n",
    "        self.chain.append(genesis_block)\n",
    "    \n",
    "    def last_block(self):\n",
    "        return self.chain[-1]\n",
    "    \n",
    "    def proof_of_work(self, block):\n",
    "        block.nonce = 1\n",
    "        computed_hash = block.compute_hash()\n",
    "        while not computed_hash.startswith('0' * self.difficulty):\n",
    "            block.nonce += 1\n",
    "            computed_hash = block.compute_hash()\n",
    "        return computed_hash\n",
    "    \n",
    "    def is_valid_proof(self, block, block_hash):\n",
    "        return (block_hash.startswith('0' * self.difficulty) and\n",
    "                block_hash == block.compute_hash())\n",
    "    \n",
    "    def add_block(self, block, proof):\n",
    "        previous_hash = self.chain[-1].hash\n",
    "        if previous_hash != block.previous_hash:\n",
    "            return False\n",
    "        if not self.is_valid_proof(block, proof):\n",
    "            return False\n",
    "        block.hash = proof\n",
    "        self.chain.append(block)\n",
    "        return True\n",
    "    \n",
    "    def add_new_transaction(self, transaction):\n",
    "            self.unconfirmed_transactions.append(transaction)\n",
    " \n",
    "    def mine(self):\n",
    "        if not self.unconfirmed_transactions:\n",
    "            return False\n",
    " \n",
    "        last_block = self.chain[-1]\n",
    "        print(type(last_block))\n",
    "        new_block = Block(last_block.index + 1, self.unconfirmed_transactions, str(datetime.datetime.now()),last_block.hash)\n",
    " \n",
    "        proof = self.proof_of_work(new_block)\n",
    "        self.add_block(new_block, proof)\n",
    "        self.unconfirmed_transactions = [\"Ty pays Brent 1000 BTC\"]\n",
    "        return new_block.index\n",
    "\n",
    "blockchain = Blockchain()  \n",
    "while len(blockchain.chain) < 10:\n",
    "    blockchain.mine()\n",
    "    print(blockchain.chain[-1].hash)\n",
    "print(blockchain)"
   ]
  }
 ],
 "metadata": {
  "kernelspec": {
   "display_name": "Python 3",
   "language": "python",
   "name": "python3"
  },
  "language_info": {
   "codemirror_mode": {
    "name": "ipython",
    "version": 3
   },
   "file_extension": ".py",
   "mimetype": "text/x-python",
   "name": "python",
   "nbconvert_exporter": "python",
   "pygments_lexer": "ipython3",
   "version": "3.8.8"
  }
 },
 "nbformat": 4,
 "nbformat_minor": 5
}
